{
  "nbformat": 4,
  "nbformat_minor": 0,
  "metadata": {
    "colab": {
      "name": "Day3.ipynb",
      "provenance": [],
      "collapsed_sections": [],
      "authorship_tag": "ABX9TyPoZadF1TNhmIymjuUO3vrC",
      "include_colab_link": true
    },
    "kernelspec": {
      "name": "python3",
      "display_name": "Python 3"
    }
  },
  "cells": [
    {
      "cell_type": "markdown",
      "metadata": {
        "id": "view-in-github",
        "colab_type": "text"
      },
      "source": [
        "<a href=\"https://colab.research.google.com/github/Lmootha/LetsUpgrade-Data-Science-101/blob/main/Day3_Assignment.ipynb\" target=\"_parent\"><img src=\"https://colab.research.google.com/assets/colab-badge.svg\" alt=\"Open In Colab\"/></a>"
      ]
    },
    {
      "cell_type": "markdown",
      "metadata": {
        "id": "fdjdCPAVebEW"
      },
      "source": [
        "Question 1"
      ]
    },
    {
      "cell_type": "code",
      "metadata": {
        "id": "rcKEcmhaeZoz",
        "outputId": "78053edf-df3c-4bc6-9259-983c42007461",
        "colab": {
          "base_uri": "https://localhost:8080/"
        }
      },
      "source": [
        "# to create an array from 2 to 50 with step size 3\n",
        "import numpy as np\n",
        "l = [i for i in range(2,51,3)]\n",
        "print(np.array(l))\n",
        "print(type(np.array(l)))"
      ],
      "execution_count": null,
      "outputs": [
        {
          "output_type": "stream",
          "text": [
            "[ 2  5  8 11 14 17 20 23 26 29 32 35 38 41 44 47 50]\n",
            "<class 'numpy.ndarray'>\n"
          ],
          "name": "stdout"
        }
      ]
    },
    {
      "cell_type": "markdown",
      "metadata": {
        "id": "5C7pyHwxhzH0"
      },
      "source": [
        "Question 2\n"
      ]
    },
    {
      "cell_type": "code",
      "metadata": {
        "id": "1NzpgGayh08M",
        "outputId": "6da67aa8-b26f-455b-8bbd-1b29e87ec5aa",
        "colab": {
          "base_uri": "https://localhost:8080/"
        }
      },
      "source": [
        "# To accept two list from user as input and print nparrays and sorted np arrays\n",
        "import numpy as np\n",
        "inp1 = input('Enter the list of 5 elements in List 1 separated by space')\n",
        "inp2 = input('Enter the list of 5 elements in List 2 separated by space')\n",
        "\n",
        "list1 = inp1.split()\n",
        "list2 = inp2.split()\n",
        "\n",
        "array1 = np.array(list1)\n",
        "array2 = np.array(list2)\n",
        "\n",
        "array3 = np.concatenate((array1,array2))\n",
        "print(array3)\n",
        "\n",
        "print(np.sort(array3))\n"
      ],
      "execution_count": null,
      "outputs": [
        {
          "output_type": "stream",
          "text": [
            "Enter the list of 5 numbers in List 1 separated by space1 2 3 4 5\n",
            "Enter the list of 5 numbers in List 2 separated by space0 0 0 0 08 7\n",
            "[1 2 3 4 5 0 0 0 0 8 7]\n",
            "[0 0 0 0 1 2 3 4 5 7 8]\n"
          ],
          "name": "stdout"
        }
      ]
    },
    {
      "cell_type": "markdown",
      "metadata": {
        "id": "dSJvlkO9ofn-"
      },
      "source": [
        "Question 3"
      ]
    },
    {
      "cell_type": "code",
      "metadata": {
        "id": "kARIpnUBohFj",
        "outputId": "21927ead-2880-465c-bf8a-ee0a174cc07c",
        "colab": {
          "base_uri": "https://localhost:8080/"
        }
      },
      "source": [
        "# to find dimension and size of ndarray\n",
        "import numpy as np\n",
        "l = [i for i in range(1,10)]\n",
        "arr = np.array(l)\n",
        "print(np.ndim(arr))\n",
        "print(np.size(arr))\n"
      ],
      "execution_count": null,
      "outputs": [
        {
          "output_type": "stream",
          "text": [
            "1\n",
            "9\n"
          ],
          "name": "stdout"
        }
      ]
    },
    {
      "cell_type": "markdown",
      "metadata": {
        "id": "OATEyadxqhjs"
      },
      "source": [
        "Question 4"
      ]
    },
    {
      "cell_type": "code",
      "metadata": {
        "id": "veiEyinsqjQy",
        "outputId": "64ae76ed-8d5e-4df0-9158-63d327dd132b",
        "colab": {
          "base_uri": "https://localhost:8080/"
        }
      },
      "source": [
        "# to convert a 1D array into a 2D array using reshape\n",
        "import numpy as np\n",
        "l = [i for i in range(1,10)]\n",
        "arr = np.array(l)\n",
        "size = np.size(arr)\n",
        "np.reshape(arr, (-1, size))\n"
      ],
      "execution_count": 2,
      "outputs": [
        {
          "output_type": "execute_result",
          "data": {
            "text/plain": [
              "array([[1, 2, 3, 4, 5, 6, 7, 8, 9]])"
            ]
          },
          "metadata": {
            "tags": []
          },
          "execution_count": 2
        }
      ]
    },
    {
      "cell_type": "code",
      "metadata": {
        "id": "-gsnrGNxtpwR",
        "outputId": "55224909-3e9f-4854-b9a2-859446c5f185",
        "colab": {
          "base_uri": "https://localhost:8080/"
        }
      },
      "source": [
        "# to convert a 1D array into a 2D array using expand_dms\n",
        "import numpy as np\n",
        "l = [i for i in range(1,10)]\n",
        "arr = np.array(l)\n",
        "arrnew = np.expand_dims(arr, axis=1)\n",
        "arrnew\n"
      ],
      "execution_count": 5,
      "outputs": [
        {
          "output_type": "execute_result",
          "data": {
            "text/plain": [
              "array([[1],\n",
              "       [2],\n",
              "       [3],\n",
              "       [4],\n",
              "       [5],\n",
              "       [6],\n",
              "       [7],\n",
              "       [8],\n",
              "       [9]])"
            ]
          },
          "metadata": {
            "tags": []
          },
          "execution_count": 5
        }
      ]
    },
    {
      "cell_type": "code",
      "metadata": {
        "id": "4ljKxF0NwbM4",
        "outputId": "6366b97e-04e4-4292-a115-e75883488409",
        "colab": {
          "base_uri": "https://localhost:8080/"
        }
      },
      "source": [
        "# to convert a 1D array into a 2D array using newaxis\n",
        "import numpy as np\n",
        "l = [i for i in range(1,10)]\n",
        "arr = np.array(l)\n",
        "arrnew = arr [np.newaxis]\n",
        "arrnew"
      ],
      "execution_count": 6,
      "outputs": [
        {
          "output_type": "execute_result",
          "data": {
            "text/plain": [
              "array([[1, 2, 3, 4, 5, 6, 7, 8, 9]])"
            ]
          },
          "metadata": {
            "tags": []
          },
          "execution_count": 6
        }
      ]
    },
    {
      "cell_type": "markdown",
      "metadata": {
        "id": "dPoFVpH8xQN6"
      },
      "source": [
        "Question 5"
      ]
    },
    {
      "cell_type": "code",
      "metadata": {
        "id": "WXbosoezxRgu",
        "outputId": "fe9cddd4-9ff8-4294-b2d7-763989d8ceba",
        "colab": {
          "base_uri": "https://localhost:8080/"
        }
      },
      "source": [
        "# Stacking two square matrices vertically and horizontally\n",
        "import numpy as np\n",
        "inp1 = np.array([[ 1, 2, 3], [ -1, -2, -3]] ) \n",
        "inp2 = np.array([[ 4, 5, 6], [ -4, -5, -6]] ) \n",
        "\n",
        "print(np.vstack((inp1,inp2)))\n",
        "print(np.hstack((inp1,inp2)))"
      ],
      "execution_count": 8,
      "outputs": [
        {
          "output_type": "stream",
          "text": [
            "[[ 1  2  3]\n",
            " [-1 -2 -3]\n",
            " [ 4  5  6]\n",
            " [-4 -5 -6]]\n",
            "[[ 1  2  3  4  5  6]\n",
            " [-1 -2 -3 -4 -5 -6]]\n"
          ],
          "name": "stdout"
        }
      ]
    },
    {
      "cell_type": "markdown",
      "metadata": {
        "id": "iq9dg2lHyM5N"
      },
      "source": [
        "Question 6"
      ]
    },
    {
      "cell_type": "code",
      "metadata": {
        "id": "pD7mcR6FyOgW",
        "outputId": "22295fc8-0628-4ba6-fa5d-e6229c02c948",
        "colab": {
          "base_uri": "https://localhost:8080/"
        }
      },
      "source": [
        "# To get unique item and count of unique item\n",
        "import numpy as np\n",
        "\n",
        "a = np.array([0, 3, 0, 1, 0, 1, 2, 1, 0, 0, 0, 0, 1, 3, 4])\n",
        "unique, counts = np.unique(a, return_counts=True)\n",
        "dict(zip(unique, counts))\n"
      ],
      "execution_count": 10,
      "outputs": [
        {
          "output_type": "execute_result",
          "data": {
            "text/plain": [
              "{0: 7, 1: 4, 2: 1, 3: 2, 4: 1}"
            ]
          },
          "metadata": {
            "tags": []
          },
          "execution_count": 10
        }
      ]
    }
  ]
}