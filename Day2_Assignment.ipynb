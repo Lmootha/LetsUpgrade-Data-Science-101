{
  "nbformat": 4,
  "nbformat_minor": 0,
  "metadata": {
    "colab": {
      "name": "Untitled2.ipynb",
      "provenance": [],
      "authorship_tag": "ABX9TyN22QjbLwNxKqf22GJIZLVJ",
      "include_colab_link": true
    },
    "kernelspec": {
      "name": "python3",
      "display_name": "Python 3"
    }
  },
  "cells": [
    {
      "cell_type": "markdown",
      "metadata": {
        "id": "view-in-github",
        "colab_type": "text"
      },
      "source": [
        "<a href=\"https://colab.research.google.com/github/Lmootha/LetsUpgrade-Data-Science-101/blob/main/Day2_Assignment.ipynb\" target=\"_parent\"><img src=\"https://colab.research.google.com/assets/colab-badge.svg\" alt=\"Open In Colab\"/></a>"
      ]
    },
    {
      "cell_type": "markdown",
      "metadata": {
        "id": "mhagQyL9FUve"
      },
      "source": [
        "Question 1"
      ]
    },
    {
      "cell_type": "code",
      "metadata": {
        "id": "2LLd8QIBFRcU",
        "outputId": "a90df8e5-b994-48a4-cd85-e2224a7b1f8b",
        "colab": {
          "base_uri": "https://localhost:8080/"
        }
      },
      "source": [
        "# to accept 10 numbders and print even numbers in list\n",
        "l=[]\n",
        "for i in range (0,10):\n",
        "  a = int(input())\n",
        "  if ((a % 2) == 0):\n",
        "    l.append(a)\n",
        "print (l)\n",
        "\n"
      ],
      "execution_count": 8,
      "outputs": [
        {
          "output_type": "stream",
          "text": [
            "1\n",
            "2\n",
            "3\n",
            "4\n",
            "5\n",
            "6\n",
            "7\n",
            "8\n",
            "9\n",
            "0\n",
            "[2, 4, 6, 8, 0]\n"
          ],
          "name": "stdout"
        }
      ]
    },
    {
      "cell_type": "markdown",
      "metadata": {
        "id": "EVzW8ob7FZsv"
      },
      "source": [
        "Question 2\n",
        "\n",
        "List Comprehension\n",
        "\n",
        "A one line code to defien and populate list, the most elegant and efficient way of defining a list\n",
        "\n",
        "Syntax :: new_list = [expression for member in iterable] expression :: The variable to be included in the list member :: from where we decide to take the variable in the list iterable :: it tells us how big the list is, or how long will it run\n",
        "\n",
        "We can also add conditions in List Comprehension to use it as filters"
      ]
    },
    {
      "cell_type": "code",
      "metadata": {
        "id": "z-TWn7EYFbc4",
        "outputId": "2b96e795-375c-4ac4-8c3a-8ecba124cd77",
        "colab": {
          "base_uri": "https://localhost:8080/"
        }
      },
      "source": [
        "# List Comprehension\n",
        "# The below program uses list comprehension to print square of first n numbers starting from 1, asking the user for n\n",
        "a = int(input())\n",
        "\n",
        "l = [i*i for i in range(1,a+1) ]\n",
        "print (l)"
      ],
      "execution_count": 9,
      "outputs": [
        {
          "output_type": "stream",
          "text": [
            "3\n",
            "[1, 4, 9]\n"
          ],
          "name": "stdout"
        }
      ]
    },
    {
      "cell_type": "markdown",
      "metadata": {
        "id": "9BQomV8bFiE7"
      },
      "source": [
        "Question 3"
      ]
    },
    {
      "cell_type": "code",
      "metadata": {
        "id": "xbKJO3HjFjah",
        "outputId": "8d709b95-39ba-485c-bc07-5c3e9442e1bb",
        "colab": {
          "base_uri": "https://localhost:8080/"
        }
      },
      "source": [
        "# To print Dicitionary with key as number and value as its square\n",
        "\n",
        "a = int(input())\n",
        "d ={}\n",
        "for i in range(1,a+1):\n",
        "  d.update({i :i*i})\n",
        "print (d)\n"
      ],
      "execution_count": 10,
      "outputs": [
        {
          "output_type": "stream",
          "text": [
            "2\n",
            "{1: 1, 2: 4}\n"
          ],
          "name": "stdout"
        }
      ]
    },
    {
      "cell_type": "markdown",
      "metadata": {
        "id": "qV0Ctg12FSjm"
      },
      "source": [
        "Question 4"
      ]
    },
    {
      "cell_type": "code",
      "metadata": {
        "id": "paNSZ2-qCbca",
        "outputId": "2dba8e53-b59c-4c7a-c0f3-17e94b91ba77",
        "colab": {
          "base_uri": "https://localhost:8080/"
        }
      },
      "source": [
        "import math\n",
        "\n",
        "position =[0,0]\n",
        "user_input =[]\n",
        "no_of_input = int(input())\n",
        "\n",
        "for i in range(no_of_input):\n",
        "  c = input()\n",
        "  user_input.append(c)\n",
        "  b = c.split()\n",
        " \n",
        "  if ((b[0].lower()) == 'up'):\n",
        "    position[1] = position[1] + int(b[1])\n",
        "  elif ((b[0].lower()) == 'down'):\n",
        "    position[1] = position[1] - int(b[1])\n",
        "  elif ((b[0].lower()) == 'left'):\n",
        "    position[0] = position[0] - int(b[1])\n",
        "  elif ((b[0].lower()) == 'right'):\n",
        "    position[0] = position[0] + int(b[1])\n",
        "\n",
        "x1 = position[0] - 0\n",
        "y1 = position[1] - 0\n",
        "\n",
        "x1 = pow(x1,2)\n",
        "y1 = pow(y1 ,2)\n",
        "\n",
        "dist = abs(x1 + y1)\n",
        "\n",
        "dist = math.sqrt(dist)\n",
        "print(int(dist))"
      ],
      "execution_count": 4,
      "outputs": [
        {
          "output_type": "stream",
          "text": [
            "4\n",
            "up 5\n",
            "down 3\n",
            "left 3\n",
            "right 2\n",
            "2\n"
          ],
          "name": "stdout"
        }
      ]
    }
  ]
}